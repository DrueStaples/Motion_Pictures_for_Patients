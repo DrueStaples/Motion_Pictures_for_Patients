{
  "nbformat": 4,
  "nbformat_minor": 0,
  "metadata": {
    "colab": {
      "name": "MovieNight.ipynb",
      "version": "0.3.2",
      "provenance": [],
      "collapsed_sections": [],
      "include_colab_link": true
    },
    "kernelspec": {
      "name": "python3",
      "display_name": "Python 3"
    },
    "accelerator": "GPU"
  },
  "cells": [
    {
      "cell_type": "markdown",
      "metadata": {
        "id": "view-in-github",
        "colab_type": "text"
      },
      "source": [
        "<a href=\"https://colab.research.google.com/github/DrueStaples/Motion_Pictures_for_Patients/blob/master/MovieNight.ipynb\" target=\"_parent\"><img src=\"https://colab.research.google.com/assets/colab-badge.svg\" alt=\"Open In Colab\"/></a>"
      ]
    },
    {
      "metadata": {
        "id": "KgVJslS4vsq9",
        "colab_type": "text"
      },
      "cell_type": "markdown",
      "source": [
        "#Welcome to your next mission! In a major city, a homeless/rehabilitation shelter has received a large number of movies and need your help to come up with a recommender system so the people only watch films that are positive."
      ]
    },
    {
      "metadata": {
        "id": "_SU57Gka9fJC",
        "colab_type": "text"
      },
      "cell_type": "markdown",
      "source": [
        "\n",
        "\n",
        "---\n",
        "\n"
      ]
    },
    {
      "metadata": {
        "id": "qM1Gn-BWytaa",
        "colab_type": "text"
      },
      "cell_type": "markdown",
      "source": [
        "##Every good craftsman needs the right set of tools! Follow these steps to get started!\n",
        "\n",
        "1.   Import the packages \n",
        "2.   Download the dataset\n",
        "3.   Split up the dataset for training and testing"
      ]
    },
    {
      "metadata": {
        "id": "6-fDQ9cZtBsm",
        "colab_type": "code",
        "outputId": "ee7389d7-f8bf-492c-857b-7d0ee6e57a69",
        "colab": {
          "base_uri": "https://localhost:8080/",
          "height": 33
        }
      },
      "cell_type": "code",
      "source": [
        "import tensorflow as tf\n",
        "from tensorflow import keras\n",
        "\n",
        "import numpy as np\n",
        "\n",
        "print(tf.__version__) #print "
      ],
      "execution_count": 1,
      "outputs": [
        {
          "output_type": "stream",
          "text": [
            "1.13.1\n"
          ],
          "name": "stdout"
        }
      ]
    },
    {
      "metadata": {
        "id": "oZM84kiXtcmy",
        "colab_type": "code",
        "colab": {
          "base_uri": "https://localhost:8080/",
          "height": 50
        },
        "outputId": "c832dd50-dae8-46ab-d530-d01bf15e476e"
      },
      "cell_type": "code",
      "source": [
        "#retrieve dataset from keras in which includes 50,000 movie reveiw!\n",
        "imdb = keras.datasets.imdb\n",
        "\n",
        "#split up the dataset into training and test data\n",
        "(train_in, train_out), (test_in, test_out) = imdb.load_data(num_words=10000)"
      ],
      "execution_count": 2,
      "outputs": [
        {
          "output_type": "stream",
          "text": [
            "Downloading data from https://storage.googleapis.com/tensorflow/tf-keras-datasets/imdb.npz\n",
            "17465344/17464789 [==============================] - 0s 0us/step\n"
          ],
          "name": "stdout"
        }
      ]
    },
    {
      "metadata": {
        "id": "7pwHS997AdkL",
        "colab_type": "text"
      },
      "cell_type": "markdown",
      "source": [
        "\n",
        "\n",
        "---\n",
        "\n"
      ]
    },
    {
      "metadata": {
        "id": "uYpkF8Ymx1YS",
        "colab_type": "text"
      },
      "cell_type": "markdown",
      "source": [
        "##Explore the data\n",
        "\n",
        "This will help you understand the data that you're working with\n",
        "\n"
      ]
    },
    {
      "metadata": {
        "id": "n0609zEcu1M5",
        "colab_type": "code",
        "outputId": "3db1b5c7-670a-466b-bdd6-b2dc90d26cb3",
        "colab": {
          "base_uri": "https://localhost:8080/",
          "height": 33
        }
      },
      "cell_type": "code",
      "source": [
        "#display the length of the training inputs and their respective outputs\n",
        "\n",
        "print(f'Training Inputs: {len(train_in)}, Training Outputs: {len(train_out)}')"
      ],
      "execution_count": 3,
      "outputs": [
        {
          "output_type": "stream",
          "text": [
            "Training Inputs: 25000, Training Outputs: 25000\n"
          ],
          "name": "stdout"
        }
      ]
    },
    {
      "metadata": {
        "id": "h5YPI86qwZn5",
        "colab_type": "code",
        "outputId": "09ef7c08-14c9-48db-e3f0-19b437b24795",
        "colab": {
          "base_uri": "https://localhost:8080/",
          "height": 53
        }
      },
      "cell_type": "code",
      "source": [
        "#display a random movie review\n",
        "\n",
        "print(train_in[92])"
      ],
      "execution_count": 4,
      "outputs": [
        {
          "output_type": "stream",
          "text": [
            "[1, 474, 66, 66, 473, 8, 67, 14, 20, 5, 4465, 18, 1928, 8, 79, 12, 143, 263, 2645, 964, 4573, 2650, 54, 12, 1177, 56, 11, 263, 2, 13, 3913, 12, 730, 83, 4, 288, 1799, 10, 10, 13, 16, 55, 1038, 685, 63, 11, 471, 93, 72, 1168, 637, 202, 101, 20, 6, 580, 60, 48, 13, 181, 8, 1135, 46, 7, 4, 750, 3534, 2, 13, 296, 12, 32, 4, 96, 143, 21, 161, 79, 233, 39, 12, 21, 4185, 10, 10, 4, 116, 16, 55, 55, 52, 21, 15, 16, 44, 12, 164, 9, 1852, 137, 75, 391, 15, 6269, 461, 4339, 5, 5273, 11, 6, 2, 3689, 7, 49, 243, 1106, 115, 348, 2618, 8, 27, 2, 137, 75, 391, 15, 29, 5, 7977, 989, 56, 174, 75, 92, 67, 12, 593, 42, 138, 12, 575, 315, 35, 2704, 19, 2, 1042, 7977, 2672, 15, 2708, 4563, 23, 90, 280, 21, 12, 16, 57, 194, 855, 13, 873, 8, 67, 14, 11, 2183, 21, 57, 164, 75, 82, 214, 4, 4199, 15, 7977, 16, 4, 31, 8, 721, 2, 8, 4, 1550, 21, 174, 75, 92, 67, 12, 10, 10, 13, 124, 49, 102, 26, 6, 2, 12, 17, 12, 2, 2857, 21, 14, 20, 1252, 2, 72, 125, 54, 6569, 2, 1233, 287, 56, 11, 4, 1333, 5, 517, 1113, 75, 92, 67, 2421, 885, 1153, 7, 90, 366, 751, 4, 130, 5, 12, 562, 72, 6, 52, 2, 7, 58, 8, 822, 46, 15, 6569, 16, 4, 1233, 27, 1613, 33, 4, 1333, 5, 54, 2, 659, 90, 26, 1097, 275, 13, 238, 60, 30, 355, 660, 14, 12, 16, 15, 1499, 10, 10, 4, 22, 6434, 25, 8, 124, 285, 5, 847, 367, 19, 94, 4229, 46, 7, 273, 5, 1499, 1062, 13, 70, 401, 56, 19, 108, 40, 2, 2, 2, 5, 85, 108, 15, 28, 2183, 3174, 2, 317, 5, 208, 21, 2, 161, 1839, 5, 1070, 1646, 4, 405, 33, 4, 130, 7, 2, 2, 25, 124, 803, 170, 23, 5, 1974, 4, 1527, 8, 4, 293, 4163, 2, 43, 889, 25, 2348, 12, 47, 35, 945, 7, 2, 11, 94, 2, 24, 2146, 376, 25, 6, 6333, 155, 822, 12, 46, 18, 2, 2978, 45, 40, 886, 6, 274, 19, 4, 9486, 6699, 187, 5, 5479, 1012, 10, 10, 52, 116, 40, 13, 301, 13, 423, 4, 105, 21, 4, 226, 65, 16, 43, 99, 1332]\n"
          ],
          "name": "stdout"
        }
      ]
    },
    {
      "metadata": {
        "id": "BhOlfh_250pY",
        "colab_type": "text"
      },
      "cell_type": "markdown",
      "source": [
        "^^ABOVE^^ : The review (words) is translated into numbers. The review always starts with 1."
      ]
    },
    {
      "metadata": {
        "id": "DX9tD_q_63Zo",
        "colab_type": "code",
        "outputId": "ca5471f8-67a0-47a8-9a0e-a1bd5deb5966",
        "colab": {
          "base_uri": "https://localhost:8080/",
          "height": 33
        }
      },
      "cell_type": "code",
      "source": [
        "#print out the amount of words there are in this review\n",
        "\n",
        "len(train_in[92])"
      ],
      "execution_count": 5,
      "outputs": [
        {
          "output_type": "execute_result",
          "data": {
            "text/plain": [
              "408"
            ]
          },
          "metadata": {
            "tags": []
          },
          "execution_count": 5
        }
      ]
    },
    {
      "metadata": {
        "id": "fEo0fRHb8x3J",
        "colab_type": "text"
      },
      "cell_type": "markdown",
      "source": [
        "^^ABOVE^^ : This says the 92nd review is 408 words long!"
      ]
    },
    {
      "metadata": {
        "id": "pZ8rEAqm8zMf",
        "colab_type": "code",
        "outputId": "8064aa01-060b-41dc-8d29-3f41bc0c3d73",
        "colab": {
          "base_uri": "https://localhost:8080/",
          "height": 33
        }
      },
      "cell_type": "code",
      "source": [
        "#print out the amount the words there are in 3 random reviews\n",
        "\n",
        "len(train_in[8]), len(train_in[155]), len(train_in[232])"
      ],
      "execution_count": 6,
      "outputs": [
        {
          "output_type": "execute_result",
          "data": {
            "text/plain": [
              "(233, 194, 267)"
            ]
          },
          "metadata": {
            "tags": []
          },
          "execution_count": 6
        }
      ]
    },
    {
      "metadata": {
        "id": "rc8_mBDz6ziG",
        "colab_type": "text"
      },
      "cell_type": "markdown",
      "source": [
        "^^ABOVE^^ : This says the 8th review is 233 words long, the 155th review is 194 words long, and the 232nd review is 267 words long. "
      ]
    },
    {
      "metadata": {
        "id": "e4yJPS2b6sDQ",
        "colab_type": "text"
      },
      "cell_type": "markdown",
      "source": [
        "\n",
        "\n",
        "---\n",
        "\n"
      ]
    },
    {
      "metadata": {
        "id": "HaBES6GDEUqt",
        "colab_type": "text"
      },
      "cell_type": "markdown",
      "source": [
        "##Preprocess the data\n",
        "\n",
        "1.   Convert the review (currently in integers) into words\n",
        "\n",
        "\n",
        "          * Create a dictionary for converting\n",
        "          * Create a function for converting\n",
        "\n",
        "\n",
        "2.   Trim or pad the reviews to all be the same length\n",
        "\n"
      ]
    },
    {
      "metadata": {
        "id": "r1s2pIvR-DNO",
        "colab_type": "text"
      },
      "cell_type": "markdown",
      "source": [
        "For us to read this easier, let's convert the review back into words"
      ]
    },
    {
      "metadata": {
        "id": "5thqYlFgxnMZ",
        "colab_type": "code",
        "colab": {
          "base_uri": "https://localhost:8080/",
          "height": 50
        },
        "outputId": "97821d55-5237-4baa-afa6-aa1b63983fa6"
      },
      "cell_type": "code",
      "source": [
        "#What we're going to see is a cool way of decoding the review\n",
        "\n",
        "#a dictionary mapping words to an integer index\n",
        "decoder_map = imdb.get_word_index()\n",
        "\n",
        "#The first indices are reserved\n",
        "decoder_map = {k:(v+3) for k,v in decoder_map.items()} \n",
        "decoder_map['<PAD>'] = 0 #when scanning matrices to achieve a kernal, use 0 for padding\n",
        "decoder_map['<START>'] = 1 #every review starts with 1\n",
        "decoder_map['<UNK>'] = 2 #unknown\n",
        "decoder_map['UNUSED'] = 3 #any word not within our range of most popular words gets a 3\n",
        "\n",
        "decoder_map_dict = dict([(value,key) for (key,value) in decoder_map.items()]) #place your decoder within a dictionary\n",
        "\n",
        "#create a function that takes your 'decoder_map_dict' and \n",
        "#translates it into words\n",
        "def movie_decoder(text):\n",
        "  return ' '.join([decoder_map_dict.get(i, '?') for i in text])"
      ],
      "execution_count": 7,
      "outputs": [
        {
          "output_type": "stream",
          "text": [
            "Downloading data from https://storage.googleapis.com/tensorflow/tf-keras-datasets/imdb_word_index.json\n",
            "1646592/1641221 [==============================] - 0s 0us/step\n"
          ],
          "name": "stdout"
        }
      ]
    },
    {
      "metadata": {
        "id": "AbyW2lm2JYhA",
        "colab_type": "text"
      },
      "cell_type": "markdown",
      "source": [
        "Try out the function and see if you can translate a movie review into words!"
      ]
    },
    {
      "metadata": {
        "id": "8oPogxKmxx7p",
        "colab_type": "code",
        "outputId": "cd9a752a-6cb7-41a5-f872-3df80b9eeab1",
        "colab": {
          "base_uri": "https://localhost:8080/",
          "height": 53
        }
      },
      "cell_type": "code",
      "source": [
        "movie_decoder(train_in[0])\n",
        "\n",
        "#decode_review(train_in[0])"
      ],
      "execution_count": 8,
      "outputs": [
        {
          "output_type": "execute_result",
          "data": {
            "text/plain": [
              "\"<START> this film was just brilliant casting location scenery story direction everyone's really suited the part they played and you could just imagine being there robert <UNK> is an amazing actor and now the same being director <UNK> father came from the same scottish island as myself so i loved the fact there was a real connection with this film the witty remarks throughout the film were great it was just brilliant so much that i bought the film as soon as it was released for <UNK> and would recommend it to everyone to watch and the fly fishing was amazing really cried at the end it was so sad and you know what they say if you cry at a film it must have been good and this definitely was also <UNK> to the two little boy's that played the <UNK> of norman and paul they were just brilliant children are often left out of the <UNK> list i think because the stars that play them all grown up are such a big profile for the whole film but these children are amazing and should be praised for what they have done don't you think the whole story was so lovely because it was true and was someone's life after all that was shared with us all\""
            ]
          },
          "metadata": {
            "tags": []
          },
          "execution_count": 8
        }
      ]
    },
    {
      "metadata": {
        "id": "n9l27Ii0UwDU",
        "colab_type": "text"
      },
      "cell_type": "markdown",
      "source": [
        "The arrays must be converted into tensors that are the SAME LENGTH via padding and trimming"
      ]
    },
    {
      "metadata": {
        "id": "ty9mXT6hkYIH",
        "colab_type": "code",
        "colab": {}
      },
      "cell_type": "code",
      "source": [
        "train_in = keras.preprocessing.sequence.pad_sequences(train_in,\n",
        "                                                        value=decoder_map[\"<PAD>\"],\n",
        "                                                        padding='post',\n",
        "                                                        maxlen=256)\n",
        "\n",
        "test_in = keras.preprocessing.sequence.pad_sequences(test_in,\n",
        "                                                       value=decoder_map[\"<PAD>\"],\n",
        "                                                       padding='post',\n",
        "                                                       maxlen=256)"
      ],
      "execution_count": 0,
      "outputs": []
    },
    {
      "metadata": {
        "id": "T6Vm6RbllIlJ",
        "colab_type": "text"
      },
      "cell_type": "markdown",
      "source": [
        "Let's test to see if we were able to trim the data down so every movie review is the SAME LENGTH."
      ]
    },
    {
      "metadata": {
        "id": "cYDCAaGWJkr7",
        "colab_type": "code",
        "outputId": "31eb5c36-724f-44d7-aad0-a33cb9b423ad",
        "colab": {
          "base_uri": "https://localhost:8080/",
          "height": 33
        }
      },
      "cell_type": "code",
      "source": [
        "len(test_in[9]), len(train_in[85]), len(train_in[229])"
      ],
      "execution_count": 10,
      "outputs": [
        {
          "output_type": "execute_result",
          "data": {
            "text/plain": [
              "(256, 256, 256)"
            ]
          },
          "metadata": {
            "tags": []
          },
          "execution_count": 10
        }
      ]
    },
    {
      "metadata": {
        "id": "vZOoGUEmm0nZ",
        "colab_type": "text"
      },
      "cell_type": "markdown",
      "source": [
        "Print out a review and notice this one isn't as long as 256 words. Therefore, we padded on zeros to make this review as long as our limit. "
      ]
    },
    {
      "metadata": {
        "id": "O_xnaV04cOPv",
        "colab_type": "code",
        "outputId": "2d246e06-98b6-4716-8cef-8b41299e562c",
        "colab": {
          "base_uri": "https://localhost:8080/",
          "height": 326
        }
      },
      "cell_type": "code",
      "source": [
        "print(test_in[39])"
      ],
      "execution_count": 11,
      "outputs": [
        {
          "output_type": "stream",
          "text": [
            "[   1   14  664   16  357    5  179  379   10   10   13  384    4  664\n",
            " 3011  540  127   24   60  124   51   89    2 5986  495   12    9    6\n",
            " 2604    5    4  403    9   43 1044  995  886    6 1170    2 3004  274\n",
            "  100   28  579    4  664 3011   51    2   66    9    2    9    6   52\n",
            " 2604   21  445   48   12    9  224   17 2420   10   10   82   50   16\n",
            "   57  147 2314   11   14  664   43    2   49   84   57 2809    2    5\n",
            " 8834  832   10   10    4  664   16   82  357   13  384   12  100   28\n",
            "   77 1993  180    8 4480  234    5   95   12   62   28   77  775  128\n",
            "   10   10   50   26    6  176  128 3672   74   14   14   16   24  290\n",
            "  149   25   70   79  128 1618   39    2 1095   92  437  129  278    5\n",
            "   58    0    0    0    0    0    0    0    0    0    0    0    0    0\n",
            "    0    0    0    0    0    0    0    0    0    0    0    0    0    0\n",
            "    0    0    0    0    0    0    0    0    0    0    0    0    0    0\n",
            "    0    0    0    0    0    0    0    0    0    0    0    0    0    0\n",
            "    0    0    0    0    0    0    0    0    0    0    0    0    0    0\n",
            "    0    0    0    0    0    0    0    0    0    0    0    0    0    0\n",
            "    0    0    0    0    0    0    0    0    0    0    0    0    0    0\n",
            "    0    0    0    0    0    0    0    0    0    0    0    0    0    0\n",
            "    0    0    0    0]\n"
          ],
          "name": "stdout"
        }
      ]
    },
    {
      "metadata": {
        "id": "OuCrevOwrrDa",
        "colab_type": "text"
      },
      "cell_type": "markdown",
      "source": [
        "\n",
        "\n",
        "---\n",
        "\n"
      ]
    },
    {
      "metadata": {
        "id": "KiHCd6i-rxYN",
        "colab_type": "text"
      },
      "cell_type": "markdown",
      "source": [
        "##Build the model\n",
        "\n",
        "Now that we cleaned up our data, let's configure, and compile a model that will train on our preprocessed data!\n",
        "\n",
        "1.   Construct the model\n",
        "\n",
        "\n",
        "          * print out a summary for better understanding\n",
        "\n",
        "\n",
        "\n",
        "\n",
        "2.   Compile the model\n",
        "\n"
      ]
    },
    {
      "metadata": {
        "id": "SMhkESWamgrU",
        "colab_type": "code",
        "outputId": "32ed3ab0-d1cb-435c-b71e-868a9668ef47",
        "colab": {
          "base_uri": "https://localhost:8080/",
          "height": 330
        }
      },
      "cell_type": "code",
      "source": [
        "#4 layer Neural Network \n",
        "\n",
        "#size of our vocabulary \n",
        "\n",
        "vocab_size = 10000\n",
        "\n",
        "\n",
        "model = keras.Sequential([\n",
        "    keras.layers.Embedding(vocab_size, 16), #useful for deriving the vectors (eg vocab_size) within 16 dimensional space to corrilate similarities. \n",
        "    keras.layers.GlobalAveragePooling1D(), #next we flatten the previous layer into a 1-D layer\n",
        "    keras.layers.Dense(16, activation=tf.nn.relu), #the previous layer is then fed into a Dense layer with 16 nodes and a relu activation\n",
        "    #relu returns num if positive and 0 if negative\n",
        "    keras.layers.Dense(1, activation=tf.nn.sigmoid) #returns num if greater than threshold\n",
        "])\n",
        "\n",
        "model.summary()"
      ],
      "execution_count": 12,
      "outputs": [
        {
          "output_type": "stream",
          "text": [
            "WARNING:tensorflow:From /usr/local/lib/python3.6/dist-packages/tensorflow/python/ops/resource_variable_ops.py:435: colocate_with (from tensorflow.python.framework.ops) is deprecated and will be removed in a future version.\n",
            "Instructions for updating:\n",
            "Colocations handled automatically by placer.\n",
            "_________________________________________________________________\n",
            "Layer (type)                 Output Shape              Param #   \n",
            "=================================================================\n",
            "embedding (Embedding)        (None, None, 16)          160000    \n",
            "_________________________________________________________________\n",
            "global_average_pooling1d (Gl (None, 16)                0         \n",
            "_________________________________________________________________\n",
            "dense (Dense)                (None, 16)                272       \n",
            "_________________________________________________________________\n",
            "dense_1 (Dense)              (None, 1)                 17        \n",
            "=================================================================\n",
            "Total params: 160,289\n",
            "Trainable params: 160,289\n",
            "Non-trainable params: 0\n",
            "_________________________________________________________________\n"
          ],
          "name": "stdout"
        }
      ]
    },
    {
      "metadata": {
        "id": "wk0q0HRJvPW_",
        "colab_type": "code",
        "colab": {}
      },
      "cell_type": "code",
      "source": [
        "#compile the model with an optimizer, a loss, and metrics\n",
        "\n",
        "model.compile(optimizer=tf.train.AdamOptimizer(),\n",
        "             loss='binary_crossentropy',\n",
        "             metrics=['accuracy'])"
      ],
      "execution_count": 0,
      "outputs": []
    },
    {
      "metadata": {
        "id": "wb5xUAX8Jf3u",
        "colab_type": "text"
      },
      "cell_type": "markdown",
      "source": [
        "##Create a cross-validation set\n",
        "\n",
        "We have our training set that we train on, but to really make sure it generlizes well to new data (test set), let's split up the data into another set (called the cross-validation set). \n"
      ]
    },
    {
      "metadata": {
        "id": "U2oCBOO0GK8_",
        "colab_type": "code",
        "colab": {}
      },
      "cell_type": "code",
      "source": [
        "validated_in = train_in[:10000]\n",
        "cross_val_in = train_in[10000:]\n",
        "\n",
        "validated_out = train_out[:10000]\n",
        "cross_val_out = train_out[10000:]"
      ],
      "execution_count": 0,
      "outputs": []
    },
    {
      "metadata": {
        "id": "Y18yDuaeRgrb",
        "colab_type": "text"
      },
      "cell_type": "markdown",
      "source": [
        "##Train the model\n",
        "\n",
        "Train 512 examples for 40 iterations "
      ]
    },
    {
      "metadata": {
        "id": "AD4fFGtQOn_n",
        "colab_type": "code",
        "outputId": "80ac9213-5778-46f5-8292-ad16d7d7d48b",
        "colab": {
          "base_uri": "https://localhost:8080/",
          "height": 1402
        }
      },
      "cell_type": "code",
      "source": [
        "model_behavior = model.fit(cross_val_in,\n",
        "                          cross_val_out,\n",
        "                          epochs=40,\n",
        "                          batch_size=512,\n",
        "                          validation_data=(validated_in, validated_out),\n",
        "                          verbose=1)"
      ],
      "execution_count": 15,
      "outputs": [
        {
          "output_type": "stream",
          "text": [
            "Train on 15000 samples, validate on 10000 samples\n",
            "WARNING:tensorflow:From /usr/local/lib/python3.6/dist-packages/tensorflow/python/ops/math_ops.py:3066: to_int32 (from tensorflow.python.ops.math_ops) is deprecated and will be removed in a future version.\n",
            "Instructions for updating:\n",
            "Use tf.cast instead.\n",
            "Epoch 1/40\n",
            "15000/15000 [==============================] - 1s 91us/sample - loss: 0.6914 - acc: 0.5809 - val_loss: 0.6887 - val_acc: 0.6538\n",
            "Epoch 2/40\n",
            "15000/15000 [==============================] - 0s 25us/sample - loss: 0.6836 - acc: 0.7329 - val_loss: 0.6784 - val_acc: 0.7412\n",
            "Epoch 3/40\n",
            "15000/15000 [==============================] - 0s 26us/sample - loss: 0.6679 - acc: 0.7645 - val_loss: 0.6594 - val_acc: 0.7642\n",
            "Epoch 4/40\n",
            "15000/15000 [==============================] - 0s 25us/sample - loss: 0.6421 - acc: 0.7707 - val_loss: 0.6307 - val_acc: 0.7695\n",
            "Epoch 5/40\n",
            "15000/15000 [==============================] - 0s 26us/sample - loss: 0.6058 - acc: 0.7997 - val_loss: 0.5940 - val_acc: 0.7937\n",
            "Epoch 6/40\n",
            "15000/15000 [==============================] - 0s 28us/sample - loss: 0.5619 - acc: 0.8195 - val_loss: 0.5529 - val_acc: 0.8087\n",
            "Epoch 7/40\n",
            "15000/15000 [==============================] - 0s 28us/sample - loss: 0.5146 - acc: 0.8347 - val_loss: 0.5092 - val_acc: 0.8251\n",
            "Epoch 8/40\n",
            "15000/15000 [==============================] - 0s 28us/sample - loss: 0.4683 - acc: 0.8516 - val_loss: 0.4697 - val_acc: 0.8371\n",
            "Epoch 9/40\n",
            "15000/15000 [==============================] - 0s 28us/sample - loss: 0.4260 - acc: 0.8665 - val_loss: 0.4346 - val_acc: 0.8471\n",
            "Epoch 10/40\n",
            "15000/15000 [==============================] - 0s 28us/sample - loss: 0.3889 - acc: 0.8780 - val_loss: 0.4058 - val_acc: 0.8545\n",
            "Epoch 11/40\n",
            "15000/15000 [==============================] - 0s 28us/sample - loss: 0.3575 - acc: 0.8847 - val_loss: 0.3820 - val_acc: 0.8610\n",
            "Epoch 12/40\n",
            "15000/15000 [==============================] - 0s 27us/sample - loss: 0.3310 - acc: 0.8923 - val_loss: 0.3636 - val_acc: 0.8644\n",
            "Epoch 13/40\n",
            "15000/15000 [==============================] - 0s 29us/sample - loss: 0.3092 - acc: 0.8978 - val_loss: 0.3474 - val_acc: 0.8690\n",
            "Epoch 14/40\n",
            "15000/15000 [==============================] - 0s 27us/sample - loss: 0.2895 - acc: 0.9030 - val_loss: 0.3354 - val_acc: 0.8741\n",
            "Epoch 15/40\n",
            "15000/15000 [==============================] - 0s 28us/sample - loss: 0.2729 - acc: 0.9079 - val_loss: 0.3253 - val_acc: 0.8764\n",
            "Epoch 16/40\n",
            "15000/15000 [==============================] - 0s 27us/sample - loss: 0.2580 - acc: 0.9134 - val_loss: 0.3171 - val_acc: 0.8765\n",
            "Epoch 17/40\n",
            "15000/15000 [==============================] - 0s 28us/sample - loss: 0.2442 - acc: 0.9175 - val_loss: 0.3101 - val_acc: 0.8787\n",
            "Epoch 18/40\n",
            "15000/15000 [==============================] - 0s 29us/sample - loss: 0.2319 - acc: 0.9218 - val_loss: 0.3041 - val_acc: 0.8811\n",
            "Epoch 19/40\n",
            "15000/15000 [==============================] - 0s 27us/sample - loss: 0.2209 - acc: 0.9241 - val_loss: 0.2991 - val_acc: 0.8821\n",
            "Epoch 20/40\n",
            "15000/15000 [==============================] - 0s 28us/sample - loss: 0.2109 - acc: 0.9273 - val_loss: 0.2958 - val_acc: 0.8824\n",
            "Epoch 21/40\n",
            "15000/15000 [==============================] - 0s 29us/sample - loss: 0.2008 - acc: 0.9333 - val_loss: 0.2929 - val_acc: 0.8825\n",
            "Epoch 22/40\n",
            "15000/15000 [==============================] - 0s 31us/sample - loss: 0.1922 - acc: 0.9360 - val_loss: 0.2900 - val_acc: 0.8847\n",
            "Epoch 23/40\n",
            "15000/15000 [==============================] - 0s 28us/sample - loss: 0.1836 - acc: 0.9399 - val_loss: 0.2891 - val_acc: 0.8843\n",
            "Epoch 24/40\n",
            "15000/15000 [==============================] - 0s 28us/sample - loss: 0.1762 - acc: 0.9433 - val_loss: 0.2877 - val_acc: 0.8859\n",
            "Epoch 25/40\n",
            "15000/15000 [==============================] - 0s 29us/sample - loss: 0.1686 - acc: 0.9468 - val_loss: 0.2859 - val_acc: 0.8861\n",
            "Epoch 26/40\n",
            "15000/15000 [==============================] - 0s 27us/sample - loss: 0.1618 - acc: 0.9493 - val_loss: 0.2865 - val_acc: 0.8844\n",
            "Epoch 27/40\n",
            "15000/15000 [==============================] - 0s 31us/sample - loss: 0.1553 - acc: 0.9516 - val_loss: 0.2859 - val_acc: 0.8855\n",
            "Epoch 28/40\n",
            "15000/15000 [==============================] - 0s 30us/sample - loss: 0.1491 - acc: 0.9549 - val_loss: 0.2866 - val_acc: 0.8861\n",
            "Epoch 29/40\n",
            "15000/15000 [==============================] - 0s 32us/sample - loss: 0.1437 - acc: 0.9570 - val_loss: 0.2878 - val_acc: 0.8847\n",
            "Epoch 30/40\n",
            "15000/15000 [==============================] - 0s 30us/sample - loss: 0.1381 - acc: 0.9588 - val_loss: 0.2873 - val_acc: 0.8865\n",
            "Epoch 31/40\n",
            "15000/15000 [==============================] - 0s 31us/sample - loss: 0.1322 - acc: 0.9612 - val_loss: 0.2882 - val_acc: 0.8858\n",
            "Epoch 32/40\n",
            "15000/15000 [==============================] - 0s 31us/sample - loss: 0.1271 - acc: 0.9641 - val_loss: 0.2896 - val_acc: 0.8856\n",
            "Epoch 33/40\n",
            "15000/15000 [==============================] - 0s 31us/sample - loss: 0.1221 - acc: 0.9657 - val_loss: 0.2918 - val_acc: 0.8857\n",
            "Epoch 34/40\n",
            "15000/15000 [==============================] - 0s 32us/sample - loss: 0.1176 - acc: 0.9671 - val_loss: 0.2940 - val_acc: 0.8858\n",
            "Epoch 35/40\n",
            "15000/15000 [==============================] - 0s 30us/sample - loss: 0.1135 - acc: 0.9677 - val_loss: 0.2962 - val_acc: 0.8855\n",
            "Epoch 36/40\n",
            "15000/15000 [==============================] - 0s 31us/sample - loss: 0.1090 - acc: 0.9703 - val_loss: 0.2980 - val_acc: 0.8853\n",
            "Epoch 37/40\n",
            "15000/15000 [==============================] - 0s 28us/sample - loss: 0.1046 - acc: 0.9714 - val_loss: 0.3006 - val_acc: 0.8849\n",
            "Epoch 38/40\n",
            "15000/15000 [==============================] - 0s 29us/sample - loss: 0.1007 - acc: 0.9728 - val_loss: 0.3042 - val_acc: 0.8834\n",
            "Epoch 39/40\n",
            "15000/15000 [==============================] - 0s 29us/sample - loss: 0.0975 - acc: 0.9739 - val_loss: 0.3078 - val_acc: 0.8819\n",
            "Epoch 40/40\n",
            "15000/15000 [==============================] - 0s 29us/sample - loss: 0.0934 - acc: 0.9762 - val_loss: 0.3105 - val_acc: 0.8843\n"
          ],
          "name": "stdout"
        }
      ]
    },
    {
      "metadata": {
        "id": "1EOcpHsozJPp",
        "colab_type": "text"
      },
      "cell_type": "markdown",
      "source": [
        "For our **training** set, we reached a loss of .31 and an accuracy of 88%!"
      ]
    },
    {
      "metadata": {
        "id": "RdyQqOM7VEqp",
        "colab_type": "text"
      },
      "cell_type": "markdown",
      "source": [
        "##Evaluate the model\n",
        "\n",
        "Let's see how the model performs by returning back two values: our loss and our accuracy. "
      ]
    },
    {
      "metadata": {
        "id": "dP8izJLtOpFZ",
        "colab_type": "code",
        "outputId": "bac9d654-cd9c-4b9d-8c60-0dfc2918ade4",
        "colab": {
          "base_uri": "https://localhost:8080/",
          "height": 66
        }
      },
      "cell_type": "code",
      "source": [
        "loss, accuracy = model.evaluate(test_in, test_out)\n",
        "\n",
        "print(f'The loss of our test set is {loss}')\n",
        "print(f'The accuracy of our test set is {accuracy}')\n"
      ],
      "execution_count": 16,
      "outputs": [
        {
          "output_type": "stream",
          "text": [
            "25000/25000 [==============================] - 2s 62us/sample - loss: 0.3322 - acc: 0.8710\n",
            "The loss of our test set is 0.33217357233047484\n",
            "The accuracy of our test set is 0.870959997177124\n"
          ],
          "name": "stdout"
        }
      ]
    },
    {
      "metadata": {
        "id": "IKqIS_Ql4srh",
        "colab_type": "text"
      },
      "cell_type": "markdown",
      "source": [
        "##Let's plot the data onto a graph to visually see how we did.\n",
        "\n",
        "\n",
        "\n",
        "1.   Create a dictionary of the model's history via saving the keys into variables\n",
        "\n",
        "          * Verify the keys of the dictionary are correct\n",
        "\n",
        "2.   Plot the keys\n",
        "\n"
      ]
    },
    {
      "metadata": {
        "id": "l75A7BkDWli-",
        "colab_type": "code",
        "outputId": "d8181294-a681-43a4-a3b8-a1b4cbe08e42",
        "colab": {
          "base_uri": "https://localhost:8080/",
          "height": 33
        }
      },
      "cell_type": "code",
      "source": [
        "import matplotlib.pyplot as plt\n",
        "\n",
        "\n",
        "model_history_dict = model_behavior.history #dictionary\n",
        "model_history_dict.keys()"
      ],
      "execution_count": 17,
      "outputs": [
        {
          "output_type": "execute_result",
          "data": {
            "text/plain": [
              "dict_keys(['loss', 'acc', 'val_loss', 'val_acc'])"
            ]
          },
          "metadata": {
            "tags": []
          },
          "execution_count": 17
        }
      ]
    },
    {
      "metadata": {
        "id": "4kpMhBfn5jCm",
        "colab_type": "code",
        "outputId": "9caf106e-c497-48b2-a9d0-3b688eca16e3",
        "colab": {
          "base_uri": "https://localhost:8080/",
          "height": 295
        }
      },
      "cell_type": "code",
      "source": [
        "training_acc = model_history_dict['acc']\n",
        "training_loss = model_history_dict['loss']\n",
        "cv_acc = model_history_dict['val_acc']\n",
        "cv_loss = model_history_dict['val_loss']\n",
        "\n",
        "EPOCHS = range(1, len(training_acc) + 1)\n",
        "\n",
        "plt.plot(EPOCHS, training_loss, 'b', label='Training Loss')\n",
        "plt.plot(EPOCHS, cv_loss, 'go', label='CV Loss')\n",
        "plt.title('Training and CV Loss')\n",
        "plt.xlabel('Epochs')\n",
        "plt.ylabel('Loss')\n",
        "plt.legend()\n",
        "\n",
        "plt.show()"
      ],
      "execution_count": 20,
      "outputs": [
        {
          "output_type": "display_data",
          "data": {
            "image/png": "[encoded data removed]",
            "text/plain": [
              "<Figure size 432x288 with 1 Axes>"
            ]
          },
          "metadata": {
            "tags": []
          }
        }
      ]
    },
    {
      "metadata": {
        "id": "H8f_6XZcI9x4",
        "colab_type": "text"
      },
      "cell_type": "markdown",
      "source": [
        "\n",
        "^^ABOVE^^ :  The ideal loss is 0, but that is not the case. \n"
      ]
    },
    {
      "metadata": {
        "id": "m4Els-D3_FW0",
        "colab_type": "code",
        "outputId": "e25aa56f-20d1-4e07-ebfd-14405205aa76",
        "colab": {
          "base_uri": "https://localhost:8080/",
          "height": 295
        }
      },
      "cell_type": "code",
      "source": [
        "plt.clf()   # clear figure\n",
        "\n",
        "plt.plot(EPOCHS, training_acc, 'b', label='Training Acc')\n",
        "plt.plot(EPOCHS, cv_acc, 'go', label='CV Acc')\n",
        "plt.title('Training and CV Accuracy')\n",
        "plt.xlabel('Epochs')\n",
        "plt.ylabel('Accuracy')\n",
        "plt.legend()\n",
        "\n",
        "plt.show()"
      ],
      "execution_count": 19,
      "outputs": [
        {
          "output_type": "display_data",
          "data": {
            "image/png": "[encoded data removed]",
            "text/plain": [
              "<Figure size 432x288 with 1 Axes>"
            ]
          },
          "metadata": {
            "tags": []
          }
        }
      ]
    },
    {
      "metadata": {
        "id": "AuQdJ94F0BOH",
        "colab_type": "text"
      },
      "cell_type": "markdown",
      "source": [
        "^^ABOVE^^ The cross validated accuracy is expected not to be as good as the training due to overfitting."
      ]
    },
    {
      "metadata": {
        "id": "vUo2GAxxUEPn",
        "colab_type": "code",
        "colab": {
          "base_uri": "https://localhost:8080/",
          "height": 286
        },
        "outputId": "76303d2d-8a1f-4a8d-cdee-5eff15375bc6"
      },
      "cell_type": "code",
      "source": [
        "#just for fun\n",
        "plt.plot(train_in[0]) #look at movie review 0 visually"
      ],
      "execution_count": 23,
      "outputs": [
        {
          "output_type": "execute_result",
          "data": {
            "text/plain": [
              "[<matplotlib.lines.Line2D at 0x7f8bb1b5cd68>]"
            ]
          },
          "metadata": {
            "tags": []
          },
          "execution_count": 23
        },
        {
          "output_type": "display_data",
          "data": {
            "image/png": "[encoded data removed]",
            "text/plain": [
              "<Figure size 432x288 with 1 Axes>"
            ]
          },
          "metadata": {
            "tags": []
          }
        }
      ]
    },
    {
      "metadata": {
        "id": "6BNUD7QDZgSJ",
        "colab_type": "text"
      },
      "cell_type": "markdown",
      "source": [
        "#In conclusion, we were able predict a positive outcome of a movie with a loss of .31 and an accuracy of 87%! Thank you for all your help with this problem and I can't wait for our next mission!"
      ]
    }
  ]
}